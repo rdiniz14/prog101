{
 "cells": [
  {
   "cell_type": "markdown",
   "metadata": {},
   "source": [
    "## Programming Applied to Economics"
   ]
  },
  {
   "cell_type": "markdown",
   "metadata": {},
   "source": [
    "Project for course evaluation\n",
    "\n",
    "Renan Bassoli Diniz - DOT10 (2024)"
   ]
  },
  {
   "cell_type": "markdown",
   "metadata": {},
   "source": [
    "### <b>Abstract</b>"
   ]
  },
  {
   "cell_type": "markdown",
   "metadata": {},
   "source": [
    "The primary objective of this work is to explore the tools and methods presented throughout the course Programming Applied to Economics, taught by Professor Gustavo Ramos Sampaio. In addition, it aimed to address a relevant topic with real potential for academic research. The issue explored here was the evaluation of the impact of mobile internet access on the opening and closure of bank branches at the municipal level. For this, panel data were used to estimate fixed and random effects models. The preliminary results do not allow for major conclusions, as expected, but the signs of the coefficients in the random effects model were in line with expectations. The next steps for this work are to make better use of the sample (by incorporating monthly data, for example), improve the identification and specification of the model, and explore other related topics, such as the demand and supply of municipal credit."
   ]
  },
  {
   "cell_type": "markdown",
   "metadata": {},
   "source": [
    "### <b>Introduction</b>"
   ]
  },
  {
   "cell_type": "markdown",
   "metadata": {},
   "source": [
    "To execute the code, a virtual environment (VENV) named prog101 was created using the command python -m venv prog101 in the Windows 11 terminal. Python version 3.9.13 was used. Due to personal preferences, the Anaconda platform was not utilized."
   ]
  },
  {
   "cell_type": "code",
   "execution_count": null,
   "metadata": {},
   "outputs": [],
   "source": [
    "pip list # List all installed packages"
   ]
  },
  {
   "cell_type": "markdown",
   "metadata": {},
   "source": [
    "We can notice that the VENV only contains basic packages. Therefore, let's download the packages we will use throughout the work."
   ]
  },
  {
   "cell_type": "code",
   "execution_count": null,
   "metadata": {},
   "outputs": [],
   "source": [
    "# Install packages\n",
    "## MS C++ Build Tools required for Windows Users\n",
    "!pip install basedosdados matplotlib requests bs4 pypdf numpy==1.26.4 sqlalchemy linearmodels"
   ]
  },
  {
   "cell_type": "code",
   "execution_count": null,
   "metadata": {},
   "outputs": [],
   "source": [
    "pip list # List all installed packages"
   ]
  },
  {
   "cell_type": "markdown",
   "metadata": {},
   "source": [
    "First, we will use the practice of Web Scraping to obtain the latest Banking Economy Report. This document is prepared and published annually by the Central Bank and covers a wide range of information about the Brazilian banking system, from the performance of credit portfolios to competition analyses in the sector."
   ]
  },
  {
   "cell_type": "code",
   "execution_count": null,
   "metadata": {},
   "outputs": [],
   "source": [
    "import requests\n",
    "r = requests.get('https://www.bcb.gov.br/publicacoes/relatorioeconomiabancaria') # Send request to remote address"
   ]
  },
  {
   "cell_type": "code",
   "execution_count": null,
   "metadata": {},
   "outputs": [],
   "source": [
    "# Check if the connection attempt was successful\n",
    "if r.status_code == 200:\n",
    "    print('Remote access succesfully completed. You can go on to the next steps.')\n",
    "elif r.status_code == 400:\n",
    "    print('Bad request.')\n",
    "elif r.status_code == 403:\n",
    "    print('Access forbidden.')\n",
    "elif r.status_code == 404:\n",
    "    print('Page not found.')\n",
    "else:\n",
    "    print('There\\'s something wrong with your request or internet connection.')"
   ]
  },
  {
   "cell_type": "markdown",
   "metadata": {},
   "source": [
    "Now, let's use BeautifulSoup to search for the download link of the report."
   ]
  },
  {
   "cell_type": "code",
   "execution_count": null,
   "metadata": {},
   "outputs": [],
   "source": [
    "from bs4 import BeautifulSoup as bs\n",
    "s = bs(r.text, 'html.parser') # Let's try to extract content from site using BS"
   ]
  },
  {
   "cell_type": "code",
   "execution_count": null,
   "metadata": {},
   "outputs": [],
   "source": [
    "s.find_all('a') # Nothing!"
   ]
  },
  {
   "cell_type": "markdown",
   "metadata": {},
   "source": [
    "We have a problem! The BCB website is built differently than usual. The layout is dynamic and relies on an internal API for page rendering, which occurs after the Status Code 200, making it impossible to obtain this information directly using Requests. Therefore, we have two alternatives: (i) Use Selenium to control the page as if it were a human user; (ii) Access the API directly, as it occurs \"in the background\" when analyzing the \"Network\" tab in the browser's Inspect Mode. In this case, without loss of generality, we will proceed with option (ii)."
   ]
  },
  {
   "cell_type": "code",
   "execution_count": null,
   "metadata": {},
   "outputs": [],
   "source": [
    "r = requests.get('https://www.bcb.gov.br/api/servico/sitebcb/relatorioeconomiabancaria/principal?filtro=') # Access API data\n",
    "if r.status_code == 200:\n",
    "    print(r.text)"
   ]
  },
  {
   "cell_type": "markdown",
   "metadata": {},
   "source": [
    "We can observe that from this new address, we can locate the link to obtain the PDF of the report. Now, let's explore the content, but it's important to note that it is in JSON format."
   ]
  },
  {
   "cell_type": "code",
   "execution_count": null,
   "metadata": {},
   "outputs": [],
   "source": [
    "import json\n",
    "j = json.loads(r.content) # Converts response into JSON format"
   ]
  },
  {
   "cell_type": "code",
   "execution_count": null,
   "metadata": {},
   "outputs": [],
   "source": [
    "pdf_link = 'https://www.bcb.gov.br' + j['conteudo'][0]['Url'] # Prepare link address\n",
    "title = j['conteudo'][0]['Titulo'] # Extract publication title"
   ]
  },
  {
   "cell_type": "code",
   "execution_count": null,
   "metadata": {},
   "outputs": [],
   "source": [
    "print(f'Now we\\'re going to get {title} from {pdf_link}')"
   ]
  },
  {
   "cell_type": "code",
   "execution_count": null,
   "metadata": {},
   "outputs": [],
   "source": [
    "# Download, open PDF and search \"Sumário Executivo\"\n",
    "rb = requests.get(pdf_link) # Download"
   ]
  },
  {
   "cell_type": "code",
   "execution_count": null,
   "metadata": {},
   "outputs": [],
   "source": [
    "from pypdf import PdfReader, generic\n",
    "\n",
    "# This PDF file has \"Bookmarks\" to divide sections\n",
    "# We're going to take advantage from this in order to find Executive Summary\n",
    "\n",
    "def getAllDestinations(rq, o, level=0):\n",
    "    dest = []\n",
    "    for d in o:\n",
    "        if isinstance(d,generic.Destination):\n",
    "            pg_num = rq.get_destination_page_number(d) + 1  # Page count starts from 0\n",
    "            dest.append([d.title, pg_num, level])\n",
    "        else:\n",
    "            # We have a list of destinations, so use recursion\n",
    "            dest = dest + getAllDestinations(rq, d, level+1)\n",
    "    return dest\n",
    "\n",
    "# Open and process it on PyPDF2\n",
    "with open('reb.pdf', 'rb+') as f:\n",
    "    f.write(rb.content)\n",
    "    rdr = PdfReader(f) # Reader\n",
    "    outlines = rdr.outline # get Bookmarks\n",
    "    dest = getAllDestinations(rdr, outlines) # get Bookmarks destinations\n",
    "\n",
    "    for d in dest:\n",
    "        if 'Sumário Executivo' in d:\n",
    "            sumario_page = d[1]\n",
    "            break # Prevent multiple values\n",
    "\n",
    "    sumario_text = rdr.pages[sumario_page - 1].extract_text()"
   ]
  },
  {
   "cell_type": "code",
   "execution_count": null,
   "metadata": {},
   "outputs": [],
   "source": [
    "print('Now, let\\'s read the Executive Summary of the Banking Economy Report from the PDF\\'s page ' + str(sumario_page) + '.')"
   ]
  },
  {
   "cell_type": "code",
   "execution_count": null,
   "metadata": {},
   "outputs": [],
   "source": [
    "print(sumario_text)"
   ]
  },
  {
   "cell_type": "markdown",
   "metadata": {},
   "source": [
    "### <b>Literature review</b>"
   ]
  },
  {
   "cell_type": "markdown",
   "metadata": {},
   "source": [
    "The Brazilian banking system has undergone significant transformations in recent decades, primarily due to the adoption of new technologies and the development of self-service channels. This literature review examines how these technological innovations, such as Pix, internet banking, and mobile banking, have impacted consumer behavior and the operations of financial institutions in Brazil. The analysis covers studies focusing on different aspects of these transformations, including the reduction of in-person transactions at bank branches and the increasing use of digital channels."
   ]
  },
  {
   "cell_type": "markdown",
   "metadata": {},
   "source": [
    "<b>Technological Innovations and Their Impact on Banking Services</b>\n",
    "\n",
    "Technological innovations have played a fundamental role in modernizing banking services in Brazil. Vilhalba and Bernardo (2023) investigate the impact of Pix, a technology introduced by the Central Bank of Brazil, on the accessibility of financial services, highlighting how this digital tool has facilitated financial inclusion and reduced the need for in-person interactions at bank branches​. Additionally, banks have heavily invested in technology to meet consumer demands for faster and more accessible services, as evidenced by the growth in the use of mobile banking and internet banking.\n",
    "\n",
    "Lucas de Sousa Lima (2024) complements this discussion by examining the impact of Pix on family farmers participating in the Agroamigo Crescer program. The study reveals that after Pix was implemented, there was a significant reduction in in-person transactions at bank branches, especially among farmers residing in municipalities different from their home branches​\n",
    ". This suggests that Pix not only facilitated financial transactions but also contributed to financial inclusion in rural areas where access to bank branches can be limited."
   ]
  },
  {
   "cell_type": "markdown",
   "metadata": {},
   "source": [
    "<b>Evolution of Self-Service Banking</b>\n",
    "\n",
    "The development of self-service channels, such as ATMs, internet banking, and mobile banking, has profoundly changed the relationship between customers and banks in Brazil. Viana (2018) explores this evolution, showing that the adoption of these channels has enabled greater customer autonomy, allowing them to perform transactions at any time and from any location​. The research also highlights that the digitization of banking services has resulted in significant cost savings for financial institutions, while also requiring organizational restructuring to adapt to new technologies.\n",
    "\n",
    "Furthermore, Lima (2024) identifies a similar trend among family farmers in the Agroamigo Crescer program. With the introduction of Pix, these farmers began to increasingly use self-service channels outside of bank branches, such as lottery kiosks and ATMs, demonstrating a clear preference for methods that offer greater convenience and lower costs​."
   ]
  },
  {
   "cell_type": "markdown",
   "metadata": {},
   "source": [
    "<b>Transformations in Consumer Banking Behavior</b>\n",
    "\n",
    "The adoption of new technologies in the banking sector has also brought about significant changes in consumer behavior. As observed by Viana (2018), customers are becoming increasingly familiar with complex operations on digital platforms, suggesting a continued growth in the use of self-service channels​. Additionally, Vilhalba and Bernardo (2023) note that Pix has become an essential tool for low-value transactions, highlighting a shift in consumer habits where convenience and speed are highly valued​.\n",
    "\n",
    "Lima (2024) reinforces this perspective by analyzing the effects of Pix on the transaction habits of family farmers. The research shows that despite the significant increase in digital transactions, in-person transactions are still common, especially in situations where access to digital technologies is limited or where there is a preference for cash transactions​. However, the general trend points to a continuous migration towards digital methods, driven by convenience and the need to reduce costs associated with travel to bank branches."
   ]
  },
  {
   "cell_type": "markdown",
   "metadata": {},
   "source": [
    "### <b>Method and data</b>"
   ]
  },
  {
   "cell_type": "markdown",
   "metadata": {},
   "source": [
    "#### First-time data download\n",
    "\n",
    "Since Banco dos Dados has a monthly download limit, we're going to save queries into a sqlite database."
   ]
  },
  {
   "cell_type": "code",
   "execution_count": null,
   "metadata": {},
   "outputs": [],
   "source": [
    "import basedosdados as bd\n",
    "import pandas as pd\n",
    "from sqlalchemy import create_engine, text as sql_text\n",
    "e = create_engine('sqlite:///prog101_sandbox.db')  # Create a local SQLite Database"
   ]
  },
  {
   "cell_type": "code",
   "execution_count": null,
   "metadata": {},
   "outputs": [],
   "source": [
    "# Anatel dataset\n",
    "df = bd.read_sql(\n",
    "    query=\"\"\"SELECT\n",
    "                ano,\n",
    "                dados.sigla_uf AS sigla_uf,\n",
    "                dados.id_municipio AS id_municipio,\n",
    "                AVG(densidade) as densidade\n",
    "            FROM `basedosdados.br_anatel_telefonia_movel.densidade_municipio` AS dados\n",
    "            GROUP BY ano, sigla_uf, id_municipio\"\"\",\n",
    "    billing_project_id='prog101-434414'\n",
    ")\n",
    "df.to_sql('mobile_data', e, if_exists='replace')"
   ]
  },
  {
   "cell_type": "code",
   "execution_count": null,
   "metadata": {},
   "outputs": [],
   "source": [
    "# Caged dataset\n",
    "df = bd.read_sql(\n",
    "    query=\"\"\"SELECT\n",
    "                ano,\n",
    "                dados.sigla_uf AS sigla_uf,\n",
    "                dados.id_municipio AS id_municipio,\n",
    "                SUM(saldo_movimentacao) as saldo\n",
    "            FROM `basedosdados.br_me_caged.microdados_movimentacao` AS dados\n",
    "            GROUP BY ano, sigla_uf, id_municipio\"\"\",\n",
    "    billing_project_id='prog101-434414')\n",
    "df.to_sql('caged', e, if_exists='replace')"
   ]
  },
  {
   "cell_type": "code",
   "execution_count": null,
   "metadata": {},
   "outputs": [],
   "source": [
    "# Old Caged dataset\n",
    "df = bd.read_sql(query=\"\"\"\n",
    "                SELECT \n",
    "                    ano, \n",
    "                    sigla_uf, \n",
    "                    id_municipio,\n",
    "                    SUM(CASE WHEN admitidos_desligados = '01' THEN 1 ELSE 0 END) \n",
    "                    - SUM(CASE WHEN admitidos_desligados = '02' THEN 1 ELSE 0 END) AS saldo\n",
    "                FROM \n",
    "                    `basedosdados.br_me_caged.microdados_antigos` AS dados\n",
    "                GROUP BY \n",
    "                    ano, \n",
    "                    sigla_uf, \n",
    "                    id_municipio\"\"\", billing_project_id='prog101-434414')\n",
    "df.to_sql('caged_old', e, if_exists='replace')"
   ]
  },
  {
   "cell_type": "code",
   "execution_count": null,
   "metadata": {},
   "outputs": [],
   "source": [
    "# BCB Estban\n",
    "df = bd.read_sql(\n",
    "    query=\"\"\"SELECT\n",
    "                ano,\n",
    "                sigla_uf,\n",
    "                id_municipio,\n",
    "                COUNT(cnpj_agencia) as agencias\n",
    "            FROM `basedosdados.br_bcb_estban.agencia` AS dados\n",
    "            GROUP BY ano, sigla_uf, id_municipio\"\"\",\n",
    "    billing_project_id='prog101-434414')\n",
    "df.to_sql('estban', e, if_exists='replace')"
   ]
  },
  {
   "cell_type": "code",
   "execution_count": null,
   "metadata": {},
   "outputs": [],
   "source": [
    "# Google Mobility Report\n",
    "df = pd.read_csv('changes-visitors-covid.csv')\n",
    "df['Day'] = pd.to_datetime(df['Day'])\n",
    "df.info()"
   ]
  },
  {
   "cell_type": "code",
   "execution_count": null,
   "metadata": {},
   "outputs": [],
   "source": [
    "df = df[df['Code'] == \"BRA\"]\n",
    "df.to_sql('google', e, if_exists='replace')"
   ]
  },
  {
   "cell_type": "markdown",
   "metadata": {},
   "source": [
    "#### Data transformation"
   ]
  },
  {
   "cell_type": "code",
   "execution_count": null,
   "metadata": {},
   "outputs": [],
   "source": [
    "import pandas as pd\n",
    "\n",
    "# Create connection with our sqlite3 database\n",
    "from sqlalchemy import create_engine, text as sql_text\n",
    "e = create_engine('sqlite:///prog101_sandbox.db') "
   ]
  },
  {
   "cell_type": "markdown",
   "metadata": {},
   "source": [
    "##### Anatel\n",
    "Yearly change in \"Densidade de acessos por 100 domicílios\""
   ]
  },
  {
   "cell_type": "code",
   "execution_count": null,
   "metadata": {},
   "outputs": [],
   "source": [
    "# Anatel\n",
    "df_anatel = pd.read_sql_query(sql_text(\"SELECT ano, id_municipio, densidade FROM mobile_data\"), e.connect())\n",
    "df_anatel.head()"
   ]
  },
  {
   "cell_type": "code",
   "execution_count": null,
   "metadata": {},
   "outputs": [],
   "source": [
    "df_anatel.sort_values(by=['id_municipio', 'ano'], inplace=True)\n",
    "df_anatel['densidade_yoy'] = df_anatel.groupby('id_municipio')['densidade'].pct_change() * 100 # Calculate Year-over-Year change\n",
    "\n",
    "df_anatel.head(30)"
   ]
  },
  {
   "cell_type": "code",
   "execution_count": null,
   "metadata": {},
   "outputs": [],
   "source": [
    "df_anatel.to_sql('treated_anatel', e, if_exists='replace') # Stash transformed data"
   ]
  },
  {
   "cell_type": "markdown",
   "metadata": {},
   "source": [
    "##### Caged (payroll change)"
   ]
  },
  {
   "cell_type": "markdown",
   "metadata": {},
   "source": [
    "Since 2020, we have a new formal jobs dataset for Brazil. So we're going to merge old and new datasets."
   ]
  },
  {
   "cell_type": "code",
   "execution_count": null,
   "metadata": {},
   "outputs": [],
   "source": [
    "df_caged_new = pd.read_sql_query(sql_text(\"SELECT ano, id_municipio, saldo FROM caged\"), e.connect())\n",
    "df_caged_new.head(20)"
   ]
  },
  {
   "cell_type": "code",
   "execution_count": null,
   "metadata": {},
   "outputs": [],
   "source": [
    "df_caged_old = pd.read_sql_query(sql_text(\"SELECT ano, id_municipio, saldo FROM caged_old\"), e.connect())\n",
    "df_caged_old.head(20)"
   ]
  },
  {
   "cell_type": "code",
   "execution_count": null,
   "metadata": {},
   "outputs": [],
   "source": [
    "print(df_caged_new.info())\n",
    "print(df_caged_old.info())"
   ]
  },
  {
   "cell_type": "code",
   "execution_count": null,
   "metadata": {},
   "outputs": [],
   "source": [
    "df_caged = df_caged_old.append(df_caged_new, ignore_index=True).reset_index()\n",
    "df_caged.head(10)"
   ]
  },
  {
   "cell_type": "code",
   "execution_count": null,
   "metadata": {},
   "outputs": [],
   "source": [
    "df_caged.to_sql('treated_caged', e, if_exists='replace')"
   ]
  },
  {
   "cell_type": "markdown",
   "metadata": {},
   "source": [
    "##### Estban (branches opening/closure)"
   ]
  },
  {
   "cell_type": "code",
   "execution_count": null,
   "metadata": {},
   "outputs": [],
   "source": [
    "df_estban = pd.read_sql_query(sql_text(\"SELECT ano, id_municipio, agencias FROM estban WHERE ano >= 2019\"), e.connect())\n",
    "df_estban.head()"
   ]
  },
  {
   "cell_type": "code",
   "execution_count": null,
   "metadata": {},
   "outputs": [],
   "source": [
    "df_estban.sort_values(by=['id_municipio', 'ano'], inplace=True)\n",
    "df_estban['agencias_yoy'] = df_estban.groupby('id_municipio')['agencias'].pct_change() * 100\n",
    "\n",
    "df_estban.head(30)"
   ]
  },
  {
   "cell_type": "code",
   "execution_count": null,
   "metadata": {},
   "outputs": [],
   "source": [
    "df_estban.to_sql('treated_estban', e, if_exists='replace')"
   ]
  },
  {
   "cell_type": "markdown",
   "metadata": {},
   "source": [
    "##### Put it all together (Panel data sample)"
   ]
  },
  {
   "cell_type": "code",
   "execution_count": null,
   "metadata": {},
   "outputs": [],
   "source": [
    "query = sql_text(\"\"\"\n",
    "                    SELECT \n",
    "                        a.ano, \n",
    "                        a.id_municipio, \n",
    "                        a.densidade_yoy, \n",
    "                        c.saldo, \n",
    "                        e.agencias_yoy\n",
    "                    FROM \n",
    "                        treated_anatel a\n",
    "                    JOIN \n",
    "                        treated_caged c \n",
    "                    ON \n",
    "                        a.ano = c.ano AND a.id_municipio = c.id_municipio\n",
    "                    JOIN \n",
    "                        treated_estban e \n",
    "                    ON \n",
    "                        a.ano = e.ano AND a.id_municipio = e.id_municipio\n",
    "                    WHERE a.ano >= 2020;\n",
    "                \"\"\")\n",
    "df_work = pd.read_sql_query(query, e.connect())\n",
    "df_work.head()"
   ]
  },
  {
   "cell_type": "code",
   "execution_count": null,
   "metadata": {},
   "outputs": [],
   "source": [
    "# Drop \"municipios\" with missing data\n",
    "nan_counties = df_work[df_work.isna().any(axis=1)]['id_municipio'].unique()\n",
    "df_work = df_work[~df_work['id_municipio'].isin(nan_counties)]\n",
    "df_work.head()"
   ]
  },
  {
   "cell_type": "code",
   "execution_count": null,
   "metadata": {},
   "outputs": [],
   "source": [
    "print(f'Sample with {len(df_work[\"id_municipio\"].unique())} counties.')"
   ]
  },
  {
   "cell_type": "markdown",
   "metadata": {},
   "source": [
    "##### Pandemic dummy creation"
   ]
  },
  {
   "cell_type": "code",
   "execution_count": null,
   "metadata": {},
   "outputs": [],
   "source": [
    "# Why 2020 and 2021 only? We'll discuss it next section\n",
    "df_work['pandemic'] = df_work['ano'].apply(lambda x: 1 if x == 2020 or x == 2021 else 0)\n",
    "df_work.head()"
   ]
  },
  {
   "cell_type": "code",
   "execution_count": null,
   "metadata": {},
   "outputs": [],
   "source": [
    "df_work.to_sql('work', e, if_exists='replace')"
   ]
  },
  {
   "cell_type": "markdown",
   "metadata": {},
   "source": [
    "#### Data visualization"
   ]
  },
  {
   "cell_type": "code",
   "execution_count": null,
   "metadata": {},
   "outputs": [],
   "source": [
    "import matplotlib.pyplot as plt\n",
    "\n",
    "data = {\n",
    "    \"Id in SQL\": [\"ano\", \"id_municipio\", \"agencias_yoy\", \"densidade_yoy\", \"saldo\", \"pandemic\"],\n",
    "    \"Description\": [\"Year\", \"County\", \"Branch count (YoY)\", \"Mobile usage (YoY)\", \"Payroll change\", \"Dummy for pandemic years\"],\n",
    "    \"Source\": [\"Base dos Dados\", \"Base dos Dados/IBGE\", \"Base dos Dados/Estban (BCB)\", \"Base dos Dados/Anatel\", \"Base dos Dados/Caged\", \"Our World in Data/Google\"],\n",
    "    \"Obs.\": [len(df_work[\"ano\"].unique()), len(df_work[\"id_municipio\"].unique()), '-', '-', '-', '-'],\n",
    "}\n",
    "\n",
    "# Create figure\n",
    "dfTmp = pd.DataFrame(data)\n",
    "fig, ax = plt.subplots(figsize=(10, 3))\n",
    "ax.axis('tight')\n",
    "ax.axis('off')\n",
    "table = ax.table(cellText=dfTmp.values, colLabels=dfTmp.columns, cellLoc='center', loc='center')\n",
    "\n",
    "# Styles adjustment\n",
    "table.auto_set_font_size(False)\n",
    "table.set_fontsize(10)\n",
    "table.scale(1.2, 1.2)\n",
    "\n",
    "# First-row bold\n",
    "for (i, j), cell in table.get_celld().items():\n",
    "    if i == 0:\n",
    "        cell.set_text_props(weight='bold')\n",
    "plt.show()\n"
   ]
  },
  {
   "cell_type": "markdown",
   "metadata": {},
   "source": [
    "We are going to estimate the effect from change in mobile usage to the change of bank branches by city. Also, we are using Caged dataset as a proxy for the economic activity of the city. Also, we implemented a \"pandemic\" dummy for 2020 and 2021."
   ]
  },
  {
   "cell_type": "markdown",
   "metadata": {},
   "source": [
    "##### Why dummy for pandemic was set only for 2020 and 2020?\n",
    "Officially, the covid-19 pandemic lasted from 2020 to the middle of 2023. But, the idea here is to consider the most critical periods of the pandemic in terms of mobility and economic activity. Indeed, when we analyze Google's mobility data, we see that from 2022 onwards, there is a relative return to normality in mobility. Although banks were considered \"essential services,\" we believe that the fear of contagion, using mobility as a proxy, impacted the consumption channel of banking services."
   ]
  },
  {
   "cell_type": "code",
   "execution_count": null,
   "metadata": {},
   "outputs": [],
   "source": [
    "df_mobility = pd.read_sql_query(sql_text(\"SELECT * FROM google\"), e.connect())\n",
    "df_mobility['Day'] = pd.to_datetime(df_mobility['Day'])\n",
    "df_mobility.info()"
   ]
  },
  {
   "cell_type": "code",
   "execution_count": null,
   "metadata": {},
   "outputs": [],
   "source": [
    "df_mobility.head()"
   ]
  },
  {
   "cell_type": "code",
   "execution_count": null,
   "metadata": {},
   "outputs": [],
   "source": [
    "plt.figure(figsize=(12, 8))\n",
    "\n",
    "for column in df_mobility.columns:\n",
    "    if \"Trend\" in column:\n",
    "        plt.plot(df_mobility['Day'], df_mobility[column], label=column)\n",
    "\n",
    "# Vertical line on Dec 31 2021\n",
    "plt.axvline(pd.to_datetime('2021-12-31'), color='black', linestyle='--')\n",
    "\n",
    "# Styles config\n",
    "plt.xlabel('Date')\n",
    "plt.ylabel('Trend Value')\n",
    "plt.title('Evolution of Mobility Trends Over Time')\n",
    "plt.legend(loc='best')\n",
    "plt.grid(True)\n",
    "\n",
    "plt.show()"
   ]
  },
  {
   "cell_type": "markdown",
   "metadata": {},
   "source": [
    "##### Some examples"
   ]
  },
  {
   "cell_type": "markdown",
   "metadata": {},
   "source": [
    "Now, we're going to select some cities to check the data.\n",
    "\n",
    "We have chosen São Paulo, Porto Alegre, Cuiabá, Recife, and Manaus — one capital from each region of the country."
   ]
  },
  {
   "cell_type": "code",
   "execution_count": null,
   "metadata": {},
   "outputs": [],
   "source": [
    "# Extracted from\n",
    "# https://www.ibge.gov.br/explica/codigos-dos-municipios.php\n",
    "cod_ibge_selected = {'3550308': 'São Paulo', '4314902': 'Porto Alegre', '5103403': 'Cuiabá', '2611606': 'Recife', '1302603': 'Manaus'}"
   ]
  },
  {
   "cell_type": "code",
   "execution_count": null,
   "metadata": {},
   "outputs": [],
   "source": [
    "def showChart(id, df, cityname):\n",
    "    dfW = df.copy()\n",
    "    dfW = dfW[dfW['id_municipio'] == id]\n",
    "    fig, ax1 = plt.subplots(figsize=(10, 6))\n",
    "\n",
    "    # Plot config\n",
    "    ax1.bar(dfW['ano'] - 0.15, dfW['agencias_yoy'], width=0.3, label='Branches # (YoY%)', color='red')\n",
    "    ax1.bar(dfW['ano'] + 0.15, dfW['densidade_yoy'], width=0.3, label='Mobile density (YoY%)', color='orange')\n",
    "    ax1.set_xlabel('Year')\n",
    "    ax1.set_ylabel('Percentage Change')\n",
    "    ax1.grid(color='gray', linestyle='dashed')\n",
    "\n",
    "    # Legend\n",
    "    ax1.legend(loc='upper left')\n",
    "\n",
    "    # X ticks adjustment\n",
    "    ax1.set_xticks(dfW['ano'])\n",
    "    ax1.set_xticklabels(dfW['ano'].astype(int))\n",
    "\n",
    "    plt.title(f'Yearly Comparison of Mobile Density and Branches ({cityname})')\n",
    "    plt.show()"
   ]
  },
  {
   "cell_type": "code",
   "execution_count": null,
   "metadata": {},
   "outputs": [],
   "source": [
    "for id, cityname in cod_ibge_selected:\n",
    "    showChart(id, df_work, cityname)"
   ]
  },
  {
   "cell_type": "markdown",
   "metadata": {},
   "source": [
    "Analyzing these capital cities, the data does not suggest such a direct inverse relationship between cell phone usage and the closure of bank branches. In fact, the credit market and the Brazilian banking system have other transformation factors that may help explain the decisions to open or close branches."
   ]
  },
  {
   "cell_type": "markdown",
   "metadata": {},
   "source": [
    "#### Model estimation"
   ]
  },
  {
   "cell_type": "code",
   "execution_count": null,
   "metadata": {},
   "outputs": [],
   "source": [
    "# Define two indexes to data\n",
    "# Multi-dimensional data\n",
    "df_work = df_work.set_index(['id_municipio', 'ano'])"
   ]
  },
  {
   "cell_type": "code",
   "execution_count": null,
   "metadata": {},
   "outputs": [],
   "source": [
    "df_work.head(20)"
   ]
  },
  {
   "cell_type": "code",
   "execution_count": null,
   "metadata": {},
   "outputs": [],
   "source": [
    "from linearmodels.panel import PanelOLS, RandomEffects\n",
    "import statsmodels.api as sm\n",
    "\n",
    "X = df_work[['densidade_yoy', 'saldo', 'pandemic']] # Explanatory variables\n",
    "y = df_work['agencias_yoy'] # Outcome variable"
   ]
  },
  {
   "cell_type": "code",
   "execution_count": null,
   "metadata": {},
   "outputs": [],
   "source": [
    "# Fixed effects model\n",
    "fixed_effects = PanelOLS(y, X, entity_effects=True)\n",
    "fixed_effects_result = fixed_effects.fit()\n",
    "\n",
    "# Random effects model\n",
    "random_effects = RandomEffects(y, X)\n",
    "random_effects_result = random_effects.fit()"
   ]
  },
  {
   "cell_type": "markdown",
   "metadata": {},
   "source": [
    "### <b>Results</b>"
   ]
  },
  {
   "cell_type": "code",
   "execution_count": null,
   "metadata": {},
   "outputs": [],
   "source": [
    "print(\"\\nFixed Effects:\\n\", fixed_effects_result.summary)"
   ]
  },
  {
   "cell_type": "code",
   "execution_count": null,
   "metadata": {},
   "outputs": [],
   "source": [
    "print(\"\\nRandom Effects:\\n\", random_effects_result.summary)"
   ]
  },
  {
   "cell_type": "code",
   "execution_count": null,
   "metadata": {},
   "outputs": [],
   "source": [
    "from linearmodels.panel import compare\n",
    "\n",
    "compare_results = compare([fixed_effects_result, random_effects_result])\n",
    "print(compare_results)"
   ]
  },
  {
   "cell_type": "markdown",
   "metadata": {},
   "source": [
    "These results do not allow for major conclusions (nor was it expected), but the random effects model, in particular, showed some signs of the expected coefficients: the increase in cell phone use (densidade_yoy) is negatively correlated with the opening of bank branches. Similarly, the coefficient for the pandemic dummy showed a negative sign. During this period, in addition to the lower customer flow in branches, there was also a cost restructuring, which accelerated the closure of bank branches."
   ]
  },
  {
   "cell_type": "markdown",
   "metadata": {},
   "source": [
    "### <b>Conclusion</b>"
   ]
  },
  {
   "cell_type": "markdown",
   "metadata": {},
   "source": [
    "This work aimed to explore the programming tools applied to economics, presented by Prof. Gustavo, through a case study project on the quantitative determinants of bank branch openings and closures by municipality, which are not currently covered in the literature on the subject.\n",
    "\n",
    "The literature review indicates that technological innovations have promoted substantial transformation in the Brazilian banking system, both in terms of service offerings and consumer behavior. The digitization of services, exemplified by the growth of Pix and self-service channels, is redefining the relationship between banks and customers, making it more flexible and accessible. However, these advancements also present challenges, such as the need to ensure digital inclusion and organizational adaptation to address an increasingly competitive and technologically advanced environment.\n",
    "\n",
    "Future research should continue to explore the impacts of these innovations, particularly concerning equitable access to financial services and the social and economic implications of these transformations. Additionally, it is crucial to investigate how financial institutions can continue to evolve to meet the growing expectations of consumers in a digitally oriented market.\n",
    "\n",
    "The preliminary results do not allow for major conclusions (as expected), but the coefficients of the random effects model were in line with expectations. The next steps in this research are to explore monthly data, improve model identification and specification, and seek a more extensive data window. Moreover, the work does not necessarily need to be limited to explaining branch openings and closures. It can also explore the determinants of municipal credit demand and supply."
   ]
  },
  {
   "cell_type": "markdown",
   "metadata": {},
   "source": [
    "### <b>References</b>"
   ]
  },
  {
   "cell_type": "markdown",
   "metadata": {},
   "source": [
    "* CENTRAL BANK OF BRAZIL. Banking Economy Report: 2023. Brasília: Central Bank of Brazil, 2023. Available at: https://www.bcb.gov.br/publicacoes/relatorioeconomiabancaria. Accessed on: September 4, 2024. <br>\n",
    "* Lima, L. de S. (2024). Saques e Transações Presenciais em Agências Bancárias por Agricultores Familiares e Efeito PIX: O Caso dos Clientes do Agroamigo Crescer. Dissertação de Mestrado, Universidade Federal do Ceará. <br>\n",
    "* Viana, T. H. P. (2018). Análise do Autoatendimento Bancário no Brasil. Trabalho de Conclusão de Curso (Graduação em Administração), Universidade Federal de Ouro Preto. <br>\n",
    "* Vilhalba, C. de A., & Bernardo, L. V. M. (2023). O consumo dos serviços bancários, frente as inovações: uma análise dos dados do Banco Central do Brasil. Universidade Federal da Grande Dourados."
   ]
  }
 ],
 "metadata": {
  "kernelspec": {
   "display_name": "prog101",
   "language": "python",
   "name": "python3"
  },
  "language_info": {
   "codemirror_mode": {
    "name": "ipython",
    "version": 3
   },
   "file_extension": ".py",
   "mimetype": "text/x-python",
   "name": "python",
   "nbconvert_exporter": "python",
   "pygments_lexer": "ipython3",
   "version": "3.9.13"
  }
 },
 "nbformat": 4,
 "nbformat_minor": 2
}
